{
 "cells": [
  {
   "cell_type": "markdown",
   "metadata": {},
   "source": [
    "# This notebook records the process of using (or my struggle of learning to do so) the Reddit Python API Wrapper "
   ]
  },
  {
   "cell_type": "markdown",
   "metadata": {},
   "source": [
    "### First step preparation,\n",
    "\n",
    "#### Go to reddit.com/prefs/apps/ to create your own app via the 'script' option\n",
    "\n",
    "#### The instructions can be found here:https://redditclient.readthedocs.io/en/latest/oauth/"
   ]
  },
  {
   "cell_type": "markdown",
   "metadata": {},
   "source": [
    "### Second step preparation,\n",
    "\n",
    "#### Install the Python Reddit API Wrapper using `pip install praw`\n",
    "\n",
    "That's right. Literally just type these 3 words in your cmd.exe and run. That's it."
   ]
  },
  {
   "cell_type": "code",
   "execution_count": 21,
   "metadata": {},
   "outputs": [],
   "source": [
    "import praw\n",
    "#Congrats! It worked! Now carrying on. Many more things to do here."
   ]
  },
  {
   "cell_type": "code",
   "execution_count": 22,
   "metadata": {},
   "outputs": [],
   "source": [
    "#create your Reddit instance.\n",
    "reddit = praw.Reddit(client_id='UNZ6-ntVRkJD4Q',\n",
    "                     client_secret='TKibv5_uX3VTQf6rAM5DwS3lsFI', password='Liu5988526',\n",
    "                     user_agent='learnpraw', username='lebronkahn')"
   ]
  },
  {
   "cell_type": "markdown",
   "metadata": {},
   "source": [
    "## Our journey begins\n",
    "\n",
    "\n",
    "## First part, parsing the threads"
   ]
  },
  {
   "cell_type": "code",
   "execution_count": 91,
   "metadata": {},
   "outputs": [
    {
     "name": "stdout",
     "output_type": "stream",
     "text": [
      "euprlf\n",
      "eyqkmj\n",
      "ez1yd7\n",
      "ezigdo\n",
      "ezgds8\n"
     ]
    }
   ],
   "source": [
    "#Now we can specify which subs we are going to look at \n",
    "sub1 = reddit.subreddit('python')\n",
    "\n",
    "#Look at the 5 hottest threads of this sub\n",
    "hot_python = sub1.hot(limit = 5)\n",
    "\n",
    "for thread in hot_python:\n",
    "    print(thread)"
   ]
  },
  {
   "cell_type": "code",
   "execution_count": 43,
   "metadata": {},
   "outputs": [
    {
     "name": "stdout",
     "output_type": "stream",
     "text": [
      "Help on method hot in module praw.models.listing.mixins.base:\n",
      "\n",
      "hot(**generator_kwargs: Union[str, int, Dict[str, str]]) -> Generator[Any, NoneType, NoneType] method of praw.models.reddit.subreddit.Subreddit instance\n",
      "    Return a :class:`.ListingGenerator` for hot items.\n",
      "    \n",
      "    Additional keyword arguments are passed in the initialization of\n",
      "    :class:`.ListingGenerator`.\n",
      "    \n",
      "    This method can be used like:\n",
      "    \n",
      "    .. code-block:: python\n",
      "    \n",
      "       reddit.domain('imgur.com').hot()\n",
      "       reddit.multireddit('samuraisam', 'programming').hot()\n",
      "       reddit.redditor('spez').hot()\n",
      "       reddit.redditor('spez').comments.hot()\n",
      "       reddit.redditor('spez').submissions.hot()\n",
      "       reddit.subreddit('all').hot()\n",
      "\n"
     ]
    }
   ],
   "source": [
    "help(sub1.hot)"
   ]
  },
  {
   "cell_type": "markdown",
   "metadata": {},
   "source": [
    "Doesn't make any sense? No worries. These are the IDs of the 5 hottest threads. By themselves they are useless."
   ]
  },
  {
   "cell_type": "code",
   "execution_count": 36,
   "metadata": {
    "scrolled": true
   },
   "outputs": [
    {
     "name": "stdout",
     "output_type": "stream",
     "text": [
      "['STR_FIELD', '__class__', '__delattr__', '__dict__', '__dir__', '__doc__', '__eq__', '__format__', '__ge__', '__getattr__', '__getattribute__', '__gt__', '__hash__', '__init__', '__init_subclass__', '__le__', '__lt__', '__module__', '__ne__', '__new__', '__reduce__', '__reduce_ex__', '__repr__', '__setattr__', '__sizeof__', '__str__', '__subclasshook__', '__weakref__', '_chunk', '_comments_by_id', '_fetch', '_fetch_data', '_fetch_info', '_fetched', '_kind', '_reddit', '_reset_attributes', '_safely_add_arguments', '_url_parts', '_vote', 'all_awardings', 'allow_live_comments', 'approved_at_utc', 'approved_by', 'archived', 'author', 'author_flair_background_color', 'author_flair_css_class', 'author_flair_richtext', 'author_flair_template_id', 'author_flair_text', 'author_flair_text_color', 'author_flair_type', 'author_fullname', 'author_patreon_flair', 'author_premium', 'awarders', 'banned_at_utc', 'banned_by', 'can_gild', 'can_mod_post', 'category', 'clear_vote', 'clicked', 'comment_limit', 'comment_sort', 'comments', 'content_categories', 'contest_mode', 'created', 'created_utc', 'crosspost', 'delete', 'disable_inbox_replies', 'discussion_type', 'distinguished', 'domain', 'downs', 'downvote', 'duplicates', 'edit', 'edited', 'enable_inbox_replies', 'flair', 'fullname', 'gild', 'gilded', 'gildings', 'hidden', 'hide', 'hide_score', 'id', 'id_from_url', 'is_crosspostable', 'is_meta', 'is_original_content', 'is_reddit_media_domain', 'is_robot_indexable', 'is_self', 'is_video', 'likes', 'link_flair_background_color', 'link_flair_css_class', 'link_flair_richtext', 'link_flair_template_id', 'link_flair_text', 'link_flair_text_color', 'link_flair_type', 'locked', 'mark_visited', 'media', 'media_embed', 'media_only', 'mod', 'mod_note', 'mod_reason_by', 'mod_reason_title', 'mod_reports', 'name', 'no_follow', 'num_comments', 'num_crossposts', 'num_reports', 'over_18', 'parent_whitelist_status', 'parse', 'permalink', 'pinned', 'pwls', 'quarantine', 'removal_reason', 'removed_by', 'removed_by_category', 'reply', 'report', 'report_reasons', 'save', 'saved', 'score', 'secure_media', 'secure_media_embed', 'selftext', 'selftext_html', 'send_replies', 'shortlink', 'spoiler', 'stickied', 'subreddit', 'subreddit_id', 'subreddit_name_prefixed', 'subreddit_subscribers', 'subreddit_type', 'suggested_sort', 'thumbnail', 'title', 'total_awards_received', 'unhide', 'unsave', 'ups', 'upvote', 'url', 'user_reports', 'view_count', 'visited', 'whitelist_status', 'wls']\n",
      "['STR_FIELD', '__class__', '__delattr__', '__dict__', '__dir__', '__doc__', '__eq__', '__format__', '__ge__', '__getattr__', '__getattribute__', '__gt__', '__hash__', '__init__', '__init_subclass__', '__le__', '__lt__', '__module__', '__ne__', '__new__', '__reduce__', '__reduce_ex__', '__repr__', '__setattr__', '__sizeof__', '__str__', '__subclasshook__', '__weakref__', '_chunk', '_comments_by_id', '_fetch', '_fetch_data', '_fetch_info', '_fetched', '_kind', '_reddit', '_reset_attributes', '_safely_add_arguments', '_url_parts', '_vote', 'all_awardings', 'allow_live_comments', 'approved_at_utc', 'approved_by', 'archived', 'author', 'author_flair_background_color', 'author_flair_css_class', 'author_flair_richtext', 'author_flair_template_id', 'author_flair_text', 'author_flair_text_color', 'author_flair_type', 'author_fullname', 'author_patreon_flair', 'author_premium', 'awarders', 'banned_at_utc', 'banned_by', 'can_gild', 'can_mod_post', 'category', 'clear_vote', 'clicked', 'comment_limit', 'comment_sort', 'comments', 'content_categories', 'contest_mode', 'created', 'created_utc', 'crosspost', 'delete', 'disable_inbox_replies', 'discussion_type', 'distinguished', 'domain', 'downs', 'downvote', 'duplicates', 'edit', 'edited', 'enable_inbox_replies', 'flair', 'fullname', 'gild', 'gilded', 'gildings', 'hidden', 'hide', 'hide_score', 'id', 'id_from_url', 'is_crosspostable', 'is_meta', 'is_original_content', 'is_reddit_media_domain', 'is_robot_indexable', 'is_self', 'is_video', 'likes', 'link_flair_background_color', 'link_flair_css_class', 'link_flair_richtext', 'link_flair_text', 'link_flair_text_color', 'link_flair_type', 'locked', 'mark_visited', 'media', 'media_embed', 'media_only', 'mod', 'mod_note', 'mod_reason_by', 'mod_reason_title', 'mod_reports', 'name', 'no_follow', 'num_comments', 'num_crossposts', 'num_reports', 'over_18', 'parent_whitelist_status', 'parse', 'permalink', 'pinned', 'pwls', 'quarantine', 'removal_reason', 'removed_by', 'removed_by_category', 'reply', 'report', 'report_reasons', 'save', 'saved', 'score', 'secure_media', 'secure_media_embed', 'selftext', 'selftext_html', 'send_replies', 'shortlink', 'spoiler', 'stickied', 'subreddit', 'subreddit_id', 'subreddit_name_prefixed', 'subreddit_subscribers', 'subreddit_type', 'suggested_sort', 'thumbnail', 'title', 'total_awards_received', 'unhide', 'unsave', 'ups', 'upvote', 'url', 'user_reports', 'view_count', 'visited', 'whitelist_status', 'wls']\n",
      "['STR_FIELD', '__class__', '__delattr__', '__dict__', '__dir__', '__doc__', '__eq__', '__format__', '__ge__', '__getattr__', '__getattribute__', '__gt__', '__hash__', '__init__', '__init_subclass__', '__le__', '__lt__', '__module__', '__ne__', '__new__', '__reduce__', '__reduce_ex__', '__repr__', '__setattr__', '__sizeof__', '__str__', '__subclasshook__', '__weakref__', '_chunk', '_comments_by_id', '_fetch', '_fetch_data', '_fetch_info', '_fetched', '_kind', '_reddit', '_reset_attributes', '_safely_add_arguments', '_url_parts', '_vote', 'all_awardings', 'allow_live_comments', 'approved_at_utc', 'approved_by', 'archived', 'author', 'author_flair_background_color', 'author_flair_css_class', 'author_flair_richtext', 'author_flair_template_id', 'author_flair_text', 'author_flair_text_color', 'author_flair_type', 'author_fullname', 'author_patreon_flair', 'author_premium', 'awarders', 'banned_at_utc', 'banned_by', 'can_gild', 'can_mod_post', 'category', 'clear_vote', 'clicked', 'comment_limit', 'comment_sort', 'comments', 'content_categories', 'contest_mode', 'created', 'created_utc', 'crosspost', 'delete', 'disable_inbox_replies', 'discussion_type', 'distinguished', 'domain', 'downs', 'downvote', 'duplicates', 'edit', 'edited', 'enable_inbox_replies', 'flair', 'fullname', 'gild', 'gilded', 'gildings', 'hidden', 'hide', 'hide_score', 'id', 'id_from_url', 'is_crosspostable', 'is_meta', 'is_original_content', 'is_reddit_media_domain', 'is_robot_indexable', 'is_self', 'is_video', 'likes', 'link_flair_background_color', 'link_flair_css_class', 'link_flair_richtext', 'link_flair_template_id', 'link_flair_text', 'link_flair_text_color', 'link_flair_type', 'locked', 'mark_visited', 'media', 'media_embed', 'media_only', 'mod', 'mod_note', 'mod_reason_by', 'mod_reason_title', 'mod_reports', 'name', 'no_follow', 'num_comments', 'num_crossposts', 'num_reports', 'over_18', 'parent_whitelist_status', 'parse', 'permalink', 'pinned', 'pwls', 'quarantine', 'removal_reason', 'removed_by', 'removed_by_category', 'reply', 'report', 'report_reasons', 'save', 'saved', 'score', 'secure_media', 'secure_media_embed', 'selftext', 'selftext_html', 'send_replies', 'shortlink', 'spoiler', 'stickied', 'subreddit', 'subreddit_id', 'subreddit_name_prefixed', 'subreddit_subscribers', 'subreddit_type', 'suggested_sort', 'thumbnail', 'title', 'total_awards_received', 'unhide', 'unsave', 'ups', 'upvote', 'url', 'user_reports', 'view_count', 'visited', 'whitelist_status', 'wls']\n",
      "['STR_FIELD', '__class__', '__delattr__', '__dict__', '__dir__', '__doc__', '__eq__', '__format__', '__ge__', '__getattr__', '__getattribute__', '__gt__', '__hash__', '__init__', '__init_subclass__', '__le__', '__lt__', '__module__', '__ne__', '__new__', '__reduce__', '__reduce_ex__', '__repr__', '__setattr__', '__sizeof__', '__str__', '__subclasshook__', '__weakref__', '_chunk', '_comments_by_id', '_fetch', '_fetch_data', '_fetch_info', '_fetched', '_kind', '_reddit', '_reset_attributes', '_safely_add_arguments', '_url_parts', '_vote', 'all_awardings', 'allow_live_comments', 'approved_at_utc', 'approved_by', 'archived', 'author', 'author_flair_background_color', 'author_flair_css_class', 'author_flair_richtext', 'author_flair_template_id', 'author_flair_text', 'author_flair_text_color', 'author_flair_type', 'author_fullname', 'author_patreon_flair', 'author_premium', 'awarders', 'banned_at_utc', 'banned_by', 'can_gild', 'can_mod_post', 'category', 'clear_vote', 'clicked', 'comment_limit', 'comment_sort', 'comments', 'content_categories', 'contest_mode', 'created', 'created_utc', 'crosspost', 'delete', 'disable_inbox_replies', 'discussion_type', 'distinguished', 'domain', 'downs', 'downvote', 'duplicates', 'edit', 'edited', 'enable_inbox_replies', 'flair', 'fullname', 'gild', 'gilded', 'gildings', 'hidden', 'hide', 'hide_score', 'id', 'id_from_url', 'is_crosspostable', 'is_meta', 'is_original_content', 'is_reddit_media_domain', 'is_robot_indexable', 'is_self', 'is_video', 'likes', 'link_flair_background_color', 'link_flair_css_class', 'link_flair_richtext', 'link_flair_template_id', 'link_flair_text', 'link_flair_text_color', 'link_flair_type', 'locked', 'mark_visited', 'media', 'media_embed', 'media_only', 'mod', 'mod_note', 'mod_reason_by', 'mod_reason_title', 'mod_reports', 'name', 'no_follow', 'num_comments', 'num_crossposts', 'num_reports', 'over_18', 'parent_whitelist_status', 'parse', 'permalink', 'pinned', 'pwls', 'quarantine', 'removal_reason', 'removed_by', 'removed_by_category', 'reply', 'report', 'report_reasons', 'save', 'saved', 'score', 'secure_media', 'secure_media_embed', 'selftext', 'selftext_html', 'send_replies', 'shortlink', 'spoiler', 'stickied', 'subreddit', 'subreddit_id', 'subreddit_name_prefixed', 'subreddit_subscribers', 'subreddit_type', 'suggested_sort', 'thumbnail', 'title', 'total_awards_received', 'unhide', 'unsave', 'ups', 'upvote', 'url', 'user_reports', 'view_count', 'visited', 'whitelist_status', 'wls']\n",
      "['STR_FIELD', '__class__', '__delattr__', '__dict__', '__dir__', '__doc__', '__eq__', '__format__', '__ge__', '__getattr__', '__getattribute__', '__gt__', '__hash__', '__init__', '__init_subclass__', '__le__', '__lt__', '__module__', '__ne__', '__new__', '__reduce__', '__reduce_ex__', '__repr__', '__setattr__', '__sizeof__', '__str__', '__subclasshook__', '__weakref__', '_chunk', '_comments_by_id', '_fetch', '_fetch_data', '_fetch_info', '_fetched', '_kind', '_reddit', '_reset_attributes', '_safely_add_arguments', '_url_parts', '_vote', 'all_awardings', 'allow_live_comments', 'approved_at_utc', 'approved_by', 'archived', 'author', 'author_flair_background_color', 'author_flair_css_class', 'author_flair_richtext', 'author_flair_template_id', 'author_flair_text', 'author_flair_text_color', 'author_flair_type', 'author_fullname', 'author_patreon_flair', 'author_premium', 'awarders', 'banned_at_utc', 'banned_by', 'can_gild', 'can_mod_post', 'category', 'clear_vote', 'clicked', 'comment_limit', 'comment_sort', 'comments', 'content_categories', 'contest_mode', 'created', 'created_utc', 'crosspost', 'delete', 'disable_inbox_replies', 'discussion_type', 'distinguished', 'domain', 'downs', 'downvote', 'duplicates', 'edit', 'edited', 'enable_inbox_replies', 'flair', 'fullname', 'gild', 'gilded', 'gildings', 'hidden', 'hide', 'hide_score', 'id', 'id_from_url', 'is_crosspostable', 'is_meta', 'is_original_content', 'is_reddit_media_domain', 'is_robot_indexable', 'is_self', 'is_video', 'likes', 'link_flair_background_color', 'link_flair_css_class', 'link_flair_richtext', 'link_flair_template_id', 'link_flair_text', 'link_flair_text_color', 'link_flair_type', 'locked', 'mark_visited', 'media', 'media_embed', 'media_only', 'mod', 'mod_note', 'mod_reason_by', 'mod_reason_title', 'mod_reports', 'name', 'no_follow', 'num_comments', 'num_crossposts', 'num_reports', 'over_18', 'parent_whitelist_status', 'parse', 'permalink', 'pinned', 'pwls', 'quarantine', 'removal_reason', 'removed_by', 'removed_by_category', 'reply', 'report', 'report_reasons', 'save', 'saved', 'score', 'secure_media', 'secure_media_embed', 'selftext', 'selftext_html', 'send_replies', 'shortlink', 'spoiler', 'stickied', 'subreddit', 'subreddit_id', 'subreddit_name_prefixed', 'subreddit_subscribers', 'subreddit_type', 'suggested_sort', 'thumbnail', 'title', 'total_awards_received', 'unhide', 'unsave', 'ups', 'upvote', 'url', 'user_reports', 'view_count', 'visited', 'whitelist_status', 'wls']\n"
     ]
    }
   ],
   "source": [
    "#We can see what attributes of the thread we can retrieve\n",
    "hot_python = sub1.hot(limit = 5)\n",
    "\n",
    "for thread in hot_python:\n",
    "    print(dir(thread))"
   ]
  },
  {
   "cell_type": "markdown",
   "metadata": {},
   "source": [
    "Apparently that's way too much. Let's just focus on several attributes now."
   ]
  },
  {
   "cell_type": "code",
   "execution_count": 39,
   "metadata": {},
   "outputs": [
    {
     "name": "stdout",
     "output_type": "stream",
     "text": [
      "Changes to r/Python\n",
      "What's everyone working on this week?\n",
      "Pip keeping us safe\n",
      "I used Python to Generate Data Sets By Candidate for the Iowa Caucus\n",
      "Stupidity or Cool. See this implementation I came across.\n"
     ]
    }
   ],
   "source": [
    "#Getting the titles of the 5 hottest threads\n",
    "hot_python = sub1.hot(limit = 5)\n",
    "\n",
    "for thread in hot_python:\n",
    "    print(thread.title)"
   ]
  },
  {
   "cell_type": "markdown",
   "metadata": {},
   "source": [
    "A senior Redditor can probably tell that the first 2 threads are stickies. We don't really want those."
   ]
  },
  {
   "cell_type": "code",
   "execution_count": 44,
   "metadata": {},
   "outputs": [
    {
     "name": "stdout",
     "output_type": "stream",
     "text": [
      "Pip keeping us safe\n",
      "I used Python to Generate Data Sets By Candidate for the Iowa Caucus\n",
      "Stupidity or Cool. See this implementation I came across.\n"
     ]
    }
   ],
   "source": [
    "hot_python = sub1.hot(limit = 5)\n",
    "\n",
    "for thread in hot_python:\n",
    "    if not thread.stickied:\n",
    "        print(thread.title)"
   ]
  },
  {
   "cell_type": "markdown",
   "metadata": {},
   "source": [
    "Now we only get 3 threads as 2 were filter out. And when we set limit as 5, we only go through 5 threads."
   ]
  },
  {
   "cell_type": "code",
   "execution_count": 47,
   "metadata": {},
   "outputs": [
    {
     "name": "stdout",
     "output_type": "stream",
     "text": [
      "Title: Pip keeping us safe, ups: 1984, downs: 0, Have we visited?: False\n",
      "Title: I used Python to Generate Data Sets By Candidate for the Iowa Caucus, ups: 11, downs: 0, Have we visited?: False\n",
      "Title: Stupidity or Cool. See this implementation I came across., ups: 2, downs: 0, Have we visited?: False\n"
     ]
    }
   ],
   "source": [
    "#To get more attributes of each thread using simple Python formatting\n",
    "hot_python = sub1.hot(limit=5)\n",
    "\n",
    "for thread in hot_python:\n",
    "    if not thread.stickied:\n",
    "        print('Title: {}, ups: {}, downs: {}, Have we visited?: {}'.format(thread.title,\n",
    "                                                                           thread.ups,\n",
    "                                                                           thread.downs,\n",
    "                                                                           thread.visited))\n",
    "#Note: we know these attributes exist due to our earlier "
   ]
  },
  {
   "cell_type": "markdown",
   "metadata": {},
   "source": [
    "Personally I find the `visited` attribute quite interesting. \n",
    "Don't you want to see if it actually changes once you visit the thread.\n",
    "\n",
    "Be right back~"
   ]
  },
  {
   "cell_type": "code",
   "execution_count": 51,
   "metadata": {},
   "outputs": [
    {
     "name": "stdout",
     "output_type": "stream",
     "text": [
      "Title: Pip keeping us safe, ups: 1985, downs: 0, Have we visited?: False\n",
      "Title: I used Python to Generate Data Sets By Candidate for the Iowa Caucus, ups: 10, downs: 0, Have we visited?: False\n",
      "Title: Stupidity or Cool. See this implementation I came across., ups: 2, downs: 0, Have we visited?: False\n"
     ]
    }
   ],
   "source": [
    "hot_python = sub1.hot(limit=5)\n",
    "\n",
    "for thread in hot_python:\n",
    "    if not thread.stickied:\n",
    "        print('Title: {}, ups: {}, downs: {}, Have we visited?: {}'.format(thread.title,\n",
    "                                                                           thread.ups,\n",
    "                                                                           thread.downs,\n",
    "                                                                           thread.visited))\n",
    "#Sadly it didn't work. I will check later to see why."
   ]
  },
  {
   "cell_type": "code",
   "execution_count": 53,
   "metadata": {},
   "outputs": [
    {
     "data": {
      "text/plain": [
       "Comment(id='fgnmzeb')"
      ]
     },
     "execution_count": 53,
     "metadata": {},
     "output_type": "execute_result"
    }
   ],
   "source": [
    "#Note, although we can up or downvote via the API, it is against the API ToS.\n",
    "hot_python = sub1.hot(limit=3)\n",
    "\n",
    "for thread in hot_python:\n",
    "    if not thread.stickied:\n",
    "        thread.reply('Thanks for sharing. This looks amazing')"
   ]
  },
  {
   "cell_type": "markdown",
   "metadata": {},
   "source": [
    "#### The id above indicates that we have successfully replied. Hooray!\n",
    "\n",
    "#### However, since this is purely experimental and the comment bears no merit. I have deleted it."
   ]
  },
  {
   "cell_type": "code",
   "execution_count": 55,
   "metadata": {},
   "outputs": [],
   "source": [
    "#We can also subscribe or unsub with API\n",
    "\n",
    "sub1.subscribe()\n",
    "sub1.unsubscribe()\n",
    "\n",
    "#I have some subs that I don't even know why\n",
    "unsub1 = reddit.subreddit('sports')\n",
    "unsub1.unsubscribe()"
   ]
  },
  {
   "cell_type": "markdown",
   "metadata": {},
   "source": [
    "## Second part, parsing the comments."
   ]
  },
  {
   "cell_type": "markdown",
   "metadata": {},
   "source": [
    "As one can imagine, the Reddit comments are messier than the threads as the latter are neatly formatted and the comments are formatted in tree-like structures."
   ]
  },
  {
   "cell_type": "code",
   "execution_count": 59,
   "metadata": {},
   "outputs": [
    {
     "name": "stdout",
     "output_type": "stream",
     "text": [
      "Title: Pip keeping us safe, ups: 2033, downs: 0, Have we visited?: False\n",
      "---------------\n",
      "All Pip ever does extra for me is tell me to update it more often than Windows 10 does.\n",
      "---------------\n",
      "Huh, what? I'm out of the loop. Or is this a joke I just don't get.\n",
      "---------------\n",
      "r/programmerhumor\n",
      "---------------\n",
      "is this an actual thing?\n",
      "---------------\n",
      "R/programmerhumor is better for this.\n",
      "---------------\n",
      "What a bad joke lol\n",
      "---------------\n",
      "Booo. Do better.\n",
      "---------------\n",
      "Let’s import Koalas 🐨🐨\n",
      "---------------\n",
      "I looked Twice\n",
      "---------------\n",
      "This sub has been getting downhill lately. All I'm seeing are pictures and videos. I guess that's the cost of becoming a big sub (and mods not caring).\n",
      "---------------\n",
      "I check pip instead of conda to see which version of a package I currently have installed when doing a search. For a good few months now conda doesn't show which version number of a package you already have installed when you do a conda search.\n",
      "---------------\n",
      "Why is this virus an opportunity for us to be racist?\n",
      "---------------\n",
      "Wuhan Virus Wuhan Virus\n",
      "---------------\n",
      "If you get it, stop the fans, heat kills it!\n",
      "---------------\n",
      "Pipenv to keep it isolated.\n",
      "---------------\n",
      "the sub was revamped but memes are still the highest\n",
      "---------------\n",
      "Jesus my PC could have been infected. Thanks pip!\n",
      "---------------\n",
      "Ha. That's funny.\n",
      "---------------\n",
      "Seems kinda racist tbh\n",
      "---------------\n",
      "[Link](https://boredroomnews.com/2020/02/02/pip-blocks-pandas-import-to-prevent-wuhan-virus/)\n",
      "---------------\n",
      "[Thank you, pip](https://youtu.be/k0h70N6rsZ4)\n",
      "---------------\n",
      "Do you even conda?\n",
      "---------------\n",
      "I feel like I have a big brain after understanding this\n",
      "---------------\n",
      "Just use virtualenv 👍\n",
      "---------------\n",
      "is this real? I can't find it on google.\n",
      "---------------\n",
      "Conda or Pip install which is better?\n",
      "---------------\n",
      "What's pip?\n",
      "---------------\n",
      "China is dumb. This joke is even dumber\n",
      "---------------\n",
      "Oh I get it, because normally it's the Chinese ensuring their people can't access internet resources. Gotcha\n"
     ]
    }
   ],
   "source": [
    "#Building on our foundation\n",
    "hot_python = sub1.hot(limit=3)\n",
    "\n",
    "for thread in hot_python:\n",
    "    if not thread.stickied:\n",
    "        print('Title: {}, ups: {}, downs: {}, Have we visited?: {}'.format(thread.title,\n",
    "                                                                           thread.ups,\n",
    "                                                                           thread.downs,\n",
    "                                                                           thread.visited))\n",
    "        comments = thread.comments\n",
    "        for comment in comments:\n",
    "            print(15*'-')\n",
    "            print(comment.body)"
   ]
  },
  {
   "cell_type": "markdown",
   "metadata": {},
   "source": [
    "After checking, I found out the comments that got printed out are just the top comments."
   ]
  },
  {
   "cell_type": "code",
   "execution_count": 63,
   "metadata": {},
   "outputs": [
    {
     "name": "stdout",
     "output_type": "stream",
     "text": [
      "Title: Pip keeping us safe, ups: 2040, downs: 0, Have we visited?: False\n",
      "--------------------\n",
      "All Pip ever does extra for me is tell me to update it more often than Windows 10 does.\n",
      "REPLY at least it's not just silently updates and break current codes\n",
      "REPLY Except Windows 10 hates you and wants to destroy all your work and reset all your VMs through dictatorial reboots.\n",
      "--------------------\n",
      "Huh, what? I'm out of the loop. Or is this a joke I just don't get.\n",
      "REPLY It’s a joke about the Chinese coronavirus, because pandas are associated with China\n",
      "--------------------\n",
      "r/programmerhumor\n",
      "--------------------\n",
      "is this an actual thing?\n",
      "REPLY I didn't believe it either, but apparently it's true! pandas 1.0.0 is finally here!\n",
      "REPLY nah, a great joke tho lol\n",
      "--------------------\n",
      "R/programmerhumor is better for this.\n",
      "REPLY But it's not a meme about JavaScript, PHP or light themes for IDEs\n",
      "--------------------\n",
      "What a bad joke lol\n",
      "--------------------\n",
      "Booo. Do better.\n",
      "--------------------\n",
      "Let’s import Koalas 🐨🐨\n",
      "REPLY > `pip` blocks Koalas import due to bushfire emergency.\n",
      "--------------------\n",
      "I looked Twice\n",
      "--------------------\n",
      "This sub has been getting downhill lately. All I'm seeing are pictures and videos. I guess that's the cost of becoming a big sub (and mods not caring).\n",
      "REPLY The mods care - they're just stretched.\n",
      "--------------------\n",
      "I check pip instead of conda to see which version of a package I currently have installed when doing a search. For a good few months now conda doesn't show which version number of a package you already have installed when you do a conda search.\n",
      "--------------------\n",
      "Why is this virus an opportunity for us to be racist?\n",
      "REPLY How is this racist?\n",
      "REPLY  It’s not racist at all\n",
      "--------------------\n",
      "Wuhan Virus Wuhan Virus\n",
      "--------------------\n",
      "If you get it, stop the fans, heat kills it!\n",
      "--------------------\n",
      "Pipenv to keep it isolated.\n",
      "--------------------\n",
      "the sub was revamped but memes are still the highest\n",
      "--------------------\n",
      "Jesus my PC could have been infected. Thanks pip!\n",
      "--------------------\n",
      "Ha. That's funny.\n",
      "--------------------\n",
      "Seems kinda racist tbh\n",
      "REPLY Corny joke, yes. But I'd argue it's more geographically based than race based.\n",
      "REPLY Pandas are different species, not race! Specism then?\n",
      "REPLY Not really racist...\n",
      "--------------------\n",
      "[Link](https://boredroomnews.com/2020/02/02/pip-blocks-pandas-import-to-prevent-wuhan-virus/)\n",
      "--------------------\n",
      "What's pip?\n",
      "REPLY What's python?\n",
      "--------------------\n",
      "[Thank you, pip](https://youtu.be/k0h70N6rsZ4)\n",
      "--------------------\n",
      "Do you even conda?\n",
      "--------------------\n",
      "I feel like I have a big brain after understanding this\n",
      "--------------------\n",
      "Just use virtualenv 👍\n",
      "--------------------\n",
      "is this real? I can't find it on google.\n",
      "REPLY Here’s a link: [link to post](https://boredroomnews.com/2020/02/02/pip-blocks-pandas-import-to-prevent-wuhan-virus/?utm_source=share&utm_medium=ios_app&utm_name=iossmf)\n",
      "--------------------\n",
      "Conda or Pip install which is better?\n",
      "REPLY [Poetry.](https://python-poetry.org/)\n",
      "REPLY Conda does more than PIP, it can install non-python dependencies for example.\n",
      "Anaconda summarized it a while ago: https://www.anaconda.com/understanding-conda-and-pip/\n",
      "REPLY Conda\n",
      "--------------------\n",
      "Oh I get it, because normally it's the Chinese ensuring their people can't access internet resources. Gotcha\n",
      "REPLY Unironically, this one still had more thought put into it than that \"joke\".\n",
      "--------------------\n",
      "China is dumb. This joke is even dumber\n"
     ]
    }
   ],
   "source": [
    "hot_python = sub1.hot(limit=3)\n",
    "\n",
    "for thread in hot_python:\n",
    "    if not thread.stickied:\n",
    "        print('Title: {}, ups: {}, downs: {}, Have we visited?: {}'.format(thread.title,\n",
    "                                                                           thread.ups,\n",
    "                                                                           thread.downs,\n",
    "                                                                           thread.visited))\n",
    "        comments = thread.comments\n",
    "        for comment in comments:\n",
    "            print(20*'-')\n",
    "            print(comment.body)\n",
    "            if len(comment.replies) > 0: #You can run `dir` again to see that replies is one of the attributes.\n",
    "                for reply in comment.replies:\n",
    "                    print('REPLY', reply.body)"
   ]
  },
  {
   "cell_type": "markdown",
   "metadata": {},
   "source": [
    "After checking, I found out the comments that got printed out are just the top comments.\n",
    "\n",
    "But there can be many levels down, writing code level after level is just not realistic."
   ]
  },
  {
   "cell_type": "code",
   "execution_count": 75,
   "metadata": {
    "scrolled": true
   },
   "outputs": [
    {
     "name": "stdout",
     "output_type": "stream",
     "text": [
      "Title: Pip keeping us safe, ups: 2057, downs: 0, Have we visited?: False\n",
      "total number of comments: 29\n",
      "251\n",
      "146\n",
      "43\n",
      "38\n",
      "21\n",
      "70\n",
      "31\n",
      "2\n",
      "3\n",
      "3\n",
      "1\n",
      "-12\n",
      "1\n",
      "1\n",
      "1\n",
      "1\n",
      "-1\n",
      "-5\n",
      "-26\n",
      "-1\n",
      "0\n",
      "-1\n",
      "0\n",
      "0\n",
      "0\n",
      "-8\n",
      "-1\n",
      "-38\n",
      "-11\n"
     ]
    }
   ],
   "source": [
    "hot_python = sub1.hot(limit=3)\n",
    "\n",
    "for thread in hot_python:\n",
    "    if not thread.stickied:\n",
    "        print('Title: {}, ups: {}, downs: {}, Have we visited?: {}'.format(thread.title,\n",
    "                                                                           thread.ups,\n",
    "                                                                           thread.downs,\n",
    "                                                                           thread.visited))\n",
    "        comments = thread.comments\n",
    "        print('total number of comments:', len(comments))\n",
    "        for comment in comments:\n",
    "            print(comment.ups)"
   ]
  },
  {
   "cell_type": "code",
   "execution_count": 76,
   "metadata": {},
   "outputs": [
    {
     "name": "stdout",
     "output_type": "stream",
     "text": [
      "Title: Pip keeping us safe, ups: 2087, downs: 0, Have we visited?: False\n",
      "--------------------\n",
      "All Pip ever does extra for me is tell me to update it more often than Windows 10 does.\n",
      "--------------------\n",
      "Huh, what? I'm out of the loop. Or is this a joke I just don't get.\n",
      "--------------------\n",
      "R/programmerhumor is better for this.\n",
      "--------------------\n",
      "r/programmerhumor\n",
      "--------------------\n",
      "is this an actual thing?\n",
      "--------------------\n",
      "What a bad joke lol\n",
      "--------------------\n",
      "Booo. Do better.\n",
      "--------------------\n",
      "Let’s import Koalas 🐨🐨\n",
      "--------------------\n",
      "I looked Twice\n",
      "--------------------\n",
      "This sub has been getting downhill lately. All I'm seeing are pictures and videos. I guess that's the cost of becoming a big sub (and mods not caring).\n",
      "--------------------\n",
      "Wuhan Virus Wuhan Virus\n",
      "--------------------\n",
      "I check pip instead of conda to see which version of a package I currently have installed when doing a search. For a good few months now conda doesn't show which version number of a package you already have installed when you do a conda search.\n",
      "--------------------\n",
      "Why is this virus an opportunity for us to be racist?\n",
      "--------------------\n",
      "If you get it, stop the fans, heat kills it!\n",
      "--------------------\n",
      "Pipenv to keep it isolated.\n",
      "--------------------\n",
      "the sub was revamped but memes are still the highest\n",
      "--------------------\n",
      "Jesus my PC could have been infected. Thanks pip!\n",
      "--------------------\n",
      "Seems kinda racist tbh\n",
      "--------------------\n",
      "Ha. That's funny.\n",
      "--------------------\n",
      "What's pip?\n",
      "--------------------\n",
      "[Link](https://boredroomnews.com/2020/02/02/pip-blocks-pandas-import-to-prevent-wuhan-virus/)\n",
      "--------------------\n",
      "[Thank you, pip](https://youtu.be/k0h70N6rsZ4)\n",
      "--------------------\n",
      "Do you even conda?\n",
      "--------------------\n",
      "I feel like I have a big brain after understanding this\n",
      "--------------------\n",
      "Just use virtualenv 👍\n",
      "--------------------\n",
      "is this real? I can't find it on google.\n",
      "--------------------\n",
      "Conda or Pip install which is better?\n",
      "--------------------\n",
      "Oh I get it, because normally it's the Chinese ensuring their people can't access internet resources. Gotcha\n",
      "--------------------\n",
      "China is dumb. This joke is even dumber\n",
      "--------------------\n",
      "at least it's not just silently updates and break current codes\n",
      "--------------------\n",
      "Except Windows 10 hates you and wants to destroy all your work and reset all your VMs through dictatorial reboots.\n",
      "--------------------\n",
      "It’s a joke about the Chinese coronavirus, because pandas are associated with China\n",
      "--------------------\n",
      "But it's not a meme about JavaScript, PHP or light themes for IDEs\n",
      "--------------------\n",
      "I didn't believe it either, but apparently it's true! pandas 1.0.0 is finally here!\n",
      "--------------------\n",
      "nah, a great joke tho lol\n",
      "--------------------\n",
      "> `pip` blocks Koalas import due to bushfire emergency.\n",
      "--------------------\n",
      "The mods care - they're just stretched.\n",
      "--------------------\n",
      "How is this racist?\n",
      "--------------------\n",
      " It’s not racist at all\n",
      "--------------------\n",
      "Corny joke, yes. But I'd argue it's more geographically based than race based.\n",
      "--------------------\n",
      "Pandas are different species, not race! Specism then?\n",
      "--------------------\n",
      "Not really racist...\n",
      "--------------------\n",
      "What's python?\n",
      "--------------------\n",
      "Here’s a link: [link to post](https://boredroomnews.com/2020/02/02/pip-blocks-pandas-import-to-prevent-wuhan-virus/?utm_source=share&utm_medium=ios_app&utm_name=iossmf)\n",
      "--------------------\n",
      "[Poetry.](https://python-poetry.org/)\n",
      "--------------------\n",
      "Conda does more than PIP, it can install non-python dependencies for example.\n",
      "Anaconda summarized it a while ago: https://www.anaconda.com/understanding-conda-and-pip/\n",
      "--------------------\n",
      "Conda\n",
      "--------------------\n",
      "Unironically, this one still had more thought put into it than that \"joke\".\n",
      "--------------------\n",
      "It does update Python alongside itself without asking though, which is only slightly less bad than a silent windows update.\n",
      "--------------------\n",
      "Your experience of Pip upgrades is clearly different to mine, in that case!\n",
      "--------------------\n",
      "Definitely not silent, but you can easily break pip quite severely if updating in any of the all but one \"correct\" way, that happens to be correct for your system, but not mine.\n",
      "\n",
      "Also, didn't they have a bad package upload recently? Like they uploaded, say, 19.3.X to PyPA but didn't include a file, which, upon many people's environments autoupgrading pip, brought a lot of Travis builds to a halt?\n",
      "--------------------\n",
      "If that's it then it's a dumb joke.\n",
      "--------------------\n",
      "Oh, thank you.\n",
      "\n",
      "That joke is \"too soon\". :/\n",
      "--------------------\n",
      "Not gonna lie, I was starting to panic there a little. Thanks for the explanation!\n",
      "--------------------\n",
      "Might be related to how the virus was introduced: eating cute, wild little critters. (Though pandas were obviously not among those critters.) Still a stretch for a joke.\n",
      "--------------------\n",
      "that's sad, i wish it was real. would be funny if it was. just imagine a bunch of people starting to get into data science saying that they couldn't install pandas because of this error lol\n",
      "--------------------\n",
      "Because of these fucking little china people infecting the whole world. Stop this racism!\n",
      "--------------------\n",
      "Ohh cheers\n",
      "--------------------\n",
      "Am I missing something or is this just a page with the image above and links to other articles...?\n",
      "--------------------\n",
      "China censors the internet for its people. It's not a joke, it's an abuse of human rights.\n",
      "--------------------\n",
      "Time to start using v. environments or docker.\n",
      "--------------------\n",
      "If its updating without asking u simply did something wrong xD\n",
      "Just change the configs?\n",
      "--------------------\n",
      "I can relate since I am a dumb joke\n",
      "--------------------\n",
      "The best kind\n",
      "--------------------\n",
      "I chortled.\n",
      "--------------------\n",
      "Yes\n",
      "--------------------\n",
      "Why is it dumb? It's a great joke.\n",
      "--------------------\n",
      "Do you know where the virus is chiefly located?\n",
      "--------------------\n",
      "Yeah it's just an article with no content and just a post title and links to other \"funny\" posts\n",
      "--------------------\n",
      "I use virtual environments, but still need to make sure that I work with the correct Python version.\n",
      "--------------------\n",
      "Get pipenv already!\n",
      "--------------------\n",
      "I have made it a habit not to update pip after setting up an environment, so I've never really had the need to change configurations.\n",
      "--------------------\n",
      "I upvoted you because your bravery is inspirational to us all.\n",
      "--------------------\n",
      "Huh. Dad always said I'm the joke and my sister is the mistake\n",
      "--------------------\n",
      "r/suicidebywords\n",
      "--------------------\n",
      "Noice\n",
      "--------------------\n",
      "O frabjous day! Callooh! Callay!\n",
      "--------------------\n",
      "How is your python within the venv changing then?\n",
      "\n",
      "Edit: Just to be clear, this is a genuine question, I'm simply curious.\n",
      "--------------------\n",
      "Pipenv, muthafucka? Do you have it?\n",
      "\n",
      "For real it is a game changer. Migrated every project and client projects to use that instead of tox, venv, or requirements.txt files. It is amazing.\n",
      "--------------------\n",
      "Unexpected Jabberwocky\n",
      "--------------------\n",
      "Pyenv and then just rebuilding the venv whenever I install a new version. With poetry or pipenv it's just a few commands.\n",
      "--------------------\n",
      "When I run a simple pip update via `pip install --upgrade pip` like the warning tells me to, it just ends up going from Python 3.5 to 3.7 (for example), and this has happened on more than one of my machines, so it's not specific to my installation. I have never investigated the issue in depth though.\n",
      "\n",
      "Edit: I use conda to manage my environments, so maybe it's a compatibility issue between conda and pip.\n",
      "--------------------\n",
      "Now I'm totally lost, are you not specifying python version with the venv? How it is possible it changes with every pip upgrade?\n",
      "--------------------\n",
      "Pip doesn't have the tooling to install a new Python version. You likely have multiple python versions on your system, and pip is getting itself tangled up in choosing which site-packages directory to use.\n",
      "\n",
      "Start by properly separating your python environments.\n",
      "--------------------\n",
      "Pipenv. Look it up and migrate everything.\n",
      "--------------------\n",
      "oh nvm I'm lost too. I have no idea what u/DrMaphuse is talking about. Once you create a venv, the python version is set. I've never heard of upgrading python within a venv without destroying it and recreating it with the new version.\n",
      "--------------------\n",
      ">Start by properly separating your python environments.\n",
      "\n",
      "I'm not the person you replied to, but how would someone clueless like me learn how to do this? Like, I'm not asking you to tell me what to do, but where do I begin to figure it out? What is step 0?\n",
      "\n",
      "I can program to do what I need to do but beyond that I have no idea what I'm doing. I feel like everything I do (like when installing software or dealing with different python versions) is just trying stuff until it works and everything is a big mess. I have almost zero programming training but it's essentially what I'm doing for a living (physics). I don't know where to begin or what I even need to learn!\n",
      "--------------------\n",
      "There are not multiple Python installations inside my environments, and I don't have the necessary permissions to install anything outside of conda envs, so my system doesn't have any Python versions installed either. \n",
      "\n",
      ">Pip doesn't have the tooling to install a new Python version. \n",
      "\n",
      "Conda does though, and it's possible that I actually used a conda update command instead of a pip one, especially if the pip command didn't work. In that case my accusations against pip would be unfounded.\n",
      "--------------------\n",
      "Sorry, was sure I'm replying to him/her ;)\n",
      "--------------------\n",
      "Tricky question!\n",
      "\n",
      "The answer varies per tool, but for Python there are better solutions than for most.\n",
      "\n",
      "The first step for keeping things organised is to not mess with the system packages. Say your OS is Ubuntu, it comes with a specific version of python 2 and python 3. All of Ubuntu's packages anticipate a particular python version being available, and might break if the system python is replaced. \n",
      "\n",
      "This advice extends to python packages. Often on the internet you'll see advice like `sudo pip install numpy`. This is problematic, because numpy will be installed for the whole system. That might seem desirable, but it's being installed by `pip`, rather than by `apt(-get)`, and you start getting in a weird mess where some of your python packages are being managed by one tool and some by another, even though they're all ending up in the same directory. The potential for breaking things exists too (the mess that occurs after `sudo pip install --upgrade pip` on an Ubuntu system will take you hours to resolve).\n",
      "\n",
      "So how do you install the packages you need? Using environments! You can use straight `virtualenv`, or one of its wrappers like `pipenv` or `poetry`. This way you can install the packages you need *per project*, and they will never interfere with the requirements of another project or the system as a whole.\n",
      "\n",
      "If you need a different python version, there's `pyenv`. It will install whichever version of python you need in a separate directory, and you can choose which python version you need per project. The aforementioned pipenv and poetry can both make use of pyenv.\n",
      "\n",
      "If you want a solution that does as much work for you as possible, there's `conda`. Personally I don't get on with `conda` because I think it's SAT-solver is the most overengineered solution possible for package management, but it will always give you what you need! Conda can manage both packages and python version per project.\n",
      "\n",
      "---\n",
      "\n",
      "That feeling of throwing spaghetti at the wall and seeing what sticks is common, and I think every programmer starts out that way. Often we'll find some commands on a stackoverflow post and just throw them into the shell and cross our fingers. I have two tips for getting out of that cycle:\n",
      "\n",
      "1. Try to understand what the command does, piece by piece. Which executable is being run, and what do those arguments do? Try to use `man` to break the command down, rather than google (usually answers from other humans will be vague and only half-correct). Once you've figured it out: is this command likely to help you?\n",
      "2. Have a backup plan. If that command doesn't work for you, you don't need it, right? So how would you undo whatever it's just performed? Even if it doesn't seem to have any effect, it's probably best to undo it, just in case something is subtly broken and you'll only notice in three months and have no idea why something doesn't work. Doing point 1 will help to get point 2, and doing point 2 will help to get point 1.\n",
      "\n",
      "In time you will start to learn the tools at your disposal, and what their strengths and weaknesses are. You'll find yourself tweaking those stackoverflow answers because you know there's some useful information in there, but that it would work just a *little* better if changed *just so...*\n",
      "--------------------\n",
      "Google about venv and pipenv\n",
      "--------------------\n",
      "They are unfounded yeah pip can’t do that. I don’t know conda at all, but I would guess you did that\n",
      "--------------------\n"
     ]
    },
    {
     "ename": "AttributeError",
     "evalue": "'MoreComments' object has no attribute 'body'",
     "output_type": "error",
     "traceback": [
      "\u001b[1;31m---------------------------------------------------------------------------\u001b[0m",
      "\u001b[1;31mAttributeError\u001b[0m                            Traceback (most recent call last)",
      "\u001b[1;32m<ipython-input-76-8cdc7daed3ed>\u001b[0m in \u001b[0;36m<module>\u001b[1;34m\u001b[0m\n\u001b[0;32m     10\u001b[0m         \u001b[1;32mfor\u001b[0m \u001b[0mcomment\u001b[0m \u001b[1;32min\u001b[0m \u001b[0mcomments\u001b[0m\u001b[1;33m:\u001b[0m\u001b[1;33m\u001b[0m\u001b[1;33m\u001b[0m\u001b[0m\n\u001b[0;32m     11\u001b[0m             \u001b[0mprint\u001b[0m\u001b[1;33m(\u001b[0m\u001b[1;36m20\u001b[0m\u001b[1;33m*\u001b[0m\u001b[1;34m'-'\u001b[0m\u001b[1;33m)\u001b[0m\u001b[1;33m\u001b[0m\u001b[1;33m\u001b[0m\u001b[0m\n\u001b[1;32m---> 12\u001b[1;33m             \u001b[0mprint\u001b[0m\u001b[1;33m(\u001b[0m\u001b[0mcomment\u001b[0m\u001b[1;33m.\u001b[0m\u001b[0mbody\u001b[0m\u001b[1;33m)\u001b[0m\u001b[1;33m\u001b[0m\u001b[1;33m\u001b[0m\u001b[0m\n\u001b[0m",
      "\u001b[1;31mAttributeError\u001b[0m: 'MoreComments' object has no attribute 'body'"
     ]
    }
   ],
   "source": [
    "hot_python = sub1.hot(limit=3)\n",
    "\n",
    "for thread in hot_python:\n",
    "    if not thread.stickied:\n",
    "        print('Title: {}, ups: {}, downs: {}, Have we visited?: {}'.format(thread.title,\n",
    "                                                                           thread.ups,\n",
    "                                                                           thread.downs,\n",
    "                                                                           thread.visited))\n",
    "        comments = thread.comments.list() #to get(list) replies from all levels\n",
    "        for comment in comments:\n",
    "            print(20*'-')\n",
    "            print(comment.body)"
   ]
  },
  {
   "cell_type": "markdown",
   "metadata": {},
   "source": [
    "Okay, we got all the comments and replies. But we have no idea about the context of any given reply or comment."
   ]
  },
  {
   "cell_type": "code",
   "execution_count": 80,
   "metadata": {
    "scrolled": true
   },
   "outputs": [
    {
     "name": "stdout",
     "output_type": "stream",
     "text": [
      "Title: Pip keeping us safe, ups: 2089, downs: 0, Have we visited?: False\n",
      "--------------------\n",
      "Parent ID: ez1yd7\n",
      "Comment ID: fgl474q\n",
      "All Pip ever does extra for me is tell me to update it more often than Windows 10 does.\n",
      "--------------------\n",
      "Parent ID: ez1yd7\n",
      "Comment ID: fgktuf9\n",
      "Huh, what? I'm out of the loop. Or is this a joke I just don't get.\n",
      "--------------------\n",
      "Parent ID: ez1yd7\n",
      "Comment ID: fgkva1l\n",
      "R/programmerhumor is better for this.\n",
      "--------------------\n",
      "Parent ID: ez1yd7\n",
      "Comment ID: fgkvx01\n",
      "r/programmerhumor\n",
      "--------------------\n",
      "Parent ID: ez1yd7\n",
      "Comment ID: fgkvsaq\n",
      "is this an actual thing?\n",
      "--------------------\n",
      "Parent ID: ez1yd7\n",
      "Comment ID: fgkwmvj\n",
      "What a bad joke lol\n",
      "--------------------\n",
      "Parent ID: ez1yd7\n",
      "Comment ID: fgl101v\n",
      "Booo. Do better.\n",
      "--------------------\n",
      "Parent ID: ez1yd7\n",
      "Comment ID: fgnq9ff\n",
      "Let’s import Koalas 🐨🐨\n",
      "--------------------\n",
      "Parent ID: ez1yd7\n",
      "Comment ID: fgl4e78\n",
      "I looked Twice\n",
      "--------------------\n",
      "Parent ID: ez1yd7\n",
      "Comment ID: fglngoj\n",
      "Wuhan Virus Wuhan Virus\n",
      "--------------------\n",
      "Parent ID: ez1yd7\n",
      "Comment ID: fgmcy0b\n",
      "This sub has been getting downhill lately. All I'm seeing are pictures and videos. I guess that's the cost of becoming a big sub (and mods not caring).\n",
      "--------------------\n",
      "Parent ID: ez1yd7\n",
      "Comment ID: fgnaznd\n",
      "I check pip instead of conda to see which version of a package I currently have installed when doing a search. For a good few months now conda doesn't show which version number of a package you already have installed when you do a conda search.\n",
      "--------------------\n",
      "Parent ID: ez1yd7\n",
      "Comment ID: fgl9wi4\n",
      "Why is this virus an opportunity for us to be racist?\n",
      "--------------------\n",
      "Parent ID: ez1yd7\n",
      "Comment ID: fglzp2o\n",
      "If you get it, stop the fans, heat kills it!\n",
      "--------------------\n",
      "Parent ID: ez1yd7\n",
      "Comment ID: fgmb9qn\n",
      "Pipenv to keep it isolated.\n"
     ]
    }
   ],
   "source": [
    "hot_python = sub1.hot(limit=3)\n",
    "\n",
    "for thread in hot_python:\n",
    "    if not thread.stickied:\n",
    "        print('Title: {}, ups: {}, downs: {}, Have we visited?: {}'.format(thread.title,\n",
    "                                                                           thread.ups,\n",
    "                                                                           thread.downs,\n",
    "                                                                           thread.visited))\n",
    "        comments = thread.comments.list()[:15] #restrict number of replies that we get\n",
    "        for comment in comments:\n",
    "            print(20*'-')\n",
    "            print('Parent ID:',comment.parent())\n",
    "            print('Comment ID:',comment.id)\n",
    "            print(comment.body)"
   ]
  },
  {
   "cell_type": "markdown",
   "metadata": {},
   "source": [
    "#### Note: without running and showing thousands of lines just for demonstration. The code above would not work for a large subreddit. Due to the sheer volumes of the comments, a lot of comments are collapsed into \"More comment\". Therefore we will eventually run into an error because of that."
   ]
  },
  {
   "cell_type": "code",
   "execution_count": null,
   "metadata": {},
   "outputs": [],
   "source": [
    "#To fix the 'MoreComments' Situation\n",
    "sub2 = reddit.subreddit('askreddit')\n",
    "hot_ask = sub2.hot(limit=3)\n",
    "\n",
    "for thread in hot_ask:\n",
    "    if not thread.stickied:\n",
    "        print('Title: {}, ups: {}, downs: {}, Have we visited?: {}'.format(thread.title,\n",
    "                                                                           thread.ups,\n",
    "                                                                           thread.downs,\n",
    "                                                                           thread.visited))\n",
    "        thread.comments.replace_more(limit=0)\n",
    "        # limiting to 15 results to save output\n",
    "        for comment in thread.comments.list()[:15]:\n",
    "            print(20*'-')\n",
    "            print('Parent ID:',comment.parent())\n",
    "            print('Comment ID:',comment.id)\n",
    "            # limiting output for space-saving-sake, feel free to not do this\n",
    "            print(comment.body[:200])"
   ]
  },
  {
   "cell_type": "code",
   "execution_count": null,
   "metadata": {},
   "outputs": [],
   "source": []
  },
  {
   "cell_type": "code",
   "execution_count": null,
   "metadata": {},
   "outputs": [],
   "source": []
  },
  {
   "cell_type": "code",
   "execution_count": null,
   "metadata": {},
   "outputs": [],
   "source": []
  },
  {
   "cell_type": "code",
   "execution_count": null,
   "metadata": {},
   "outputs": [],
   "source": []
  },
  {
   "cell_type": "code",
   "execution_count": null,
   "metadata": {},
   "outputs": [],
   "source": []
  },
  {
   "cell_type": "code",
   "execution_count": null,
   "metadata": {},
   "outputs": [],
   "source": []
  },
  {
   "cell_type": "code",
   "execution_count": null,
   "metadata": {},
   "outputs": [],
   "source": []
  }
 ],
 "metadata": {
  "kernelspec": {
   "display_name": "Python 3",
   "language": "python",
   "name": "python3"
  },
  "language_info": {
   "codemirror_mode": {
    "name": "ipython",
    "version": 3
   },
   "file_extension": ".py",
   "mimetype": "text/x-python",
   "name": "python",
   "nbconvert_exporter": "python",
   "pygments_lexer": "ipython3",
   "version": "3.7.4"
  }
 },
 "nbformat": 4,
 "nbformat_minor": 2
}
